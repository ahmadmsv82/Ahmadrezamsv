{
 "cells": [
  {
   "cell_type": "code",
   "execution_count": 1,
   "id": "33bb4059-5be2-4722-b846-ef0b451bf222",
   "metadata": {},
   "outputs": [
    {
     "name": "stdout",
     "output_type": "stream",
     "text": [
      "queue size is: 3\n",
      "ra'na left the queue\n",
      "front of queue is: vez\n",
      "It was a queue\n"
     ]
    }
   ],
   "source": [
    "#_به پیاده سازی بالا از صف این قابلیت را اضافه کنید که که عنصر  iام صف را\n",
    "\n",
    "class Queue:\n",
    "    def __init__(self, max_size):\n",
    "        self.max_size = max_size\n",
    "        self.Q = [None] * max_size  # Initialize with None instead of 0\n",
    "        self.num = 0\n",
    "        self.first = 0\n",
    "    \n",
    "    def enqueue(self, item):\n",
    "        if self.num >= self.max_size:\n",
    "            raise Exception(\"Queue overflow\")\n",
    "        self.Q[(self.num + self.first) % self.max_size] = item\n",
    "        self.num += 1\n",
    "    \n",
    "    def dequeue(self):\n",
    "        if self.num == 0:\n",
    "            raise Exception(\"Queue empty\")\n",
    "        item = self.Q[self.first]\n",
    "        self.first = (self.first + 1) % self.max_size\n",
    "        self.num -= 1\n",
    "        return item\n",
    "    \n",
    "    def front(self):\n",
    "        if self.num == 0:\n",
    "            raise Exception(\"Queue empty\")\n",
    "        return self.Q[self.first]\n",
    "    \n",
    "    def is_empty(self):\n",
    "        return self.num == 0\n",
    "    \n",
    "    def size(self):\n",
    "        return self.num\n",
    "    \n",
    "    def is_full(self):\n",
    "        return self.num >= self.max_size\n",
    "    \n",
    "    # New method to print the queue as per the desired format\n",
    "    def __str__(self):\n",
    "        result = \"(front of queue)\"\n",
    "        if not self.is_empty():\n",
    "            result += \"[\"\n",
    "            result += \", \".join(str(self.Q[(self.first + i) % self.max_size]) for i in range(self.num))\n",
    "            result += \"]\"\n",
    "        result += \"(back of queue)\"\n",
    "        return result\n",
    "\n",
    "# Test the code\n",
    "q = Queue(10)\n",
    "q.enqueue(\"ra'na\")\n",
    "q.enqueue(\"vez\")\n",
    "q.enqueue(\"Arya\")\n",
    "print(\"queue size is:\", q.size())\n",
    "print(q.dequeue(), \"left the queue\")\n",
    "print(\"front of queue is:\", q.front())\n",
    "q.enqueue(\"milda\")\n",
    "q.dequeue()\n",
    "q.dequeue()\n",
    "q.dequeue()\n",
    "print(\"It was a queue\")"
   ]
  },
  {
   "cell_type": "code",
   "execution_count": null,
   "id": "c8a7bb10-570e-4724-b317-fe814857aad4",
   "metadata": {},
   "outputs": [],
   "source": []
  }
 ],
 "metadata": {
  "kernelspec": {
   "display_name": "Python 3 (ipykernel)",
   "language": "python",
   "name": "python3"
  },
  "language_info": {
   "codemirror_mode": {
    "name": "ipython",
    "version": 3
   },
   "file_extension": ".py",
   "mimetype": "text/x-python",
   "name": "python",
   "nbconvert_exporter": "python",
   "pygments_lexer": "ipython3",
   "version": "3.11.7"
  }
 },
 "nbformat": 4,
 "nbformat_minor": 5
}
